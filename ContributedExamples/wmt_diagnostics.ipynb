{
 "cells": [
  {
   "cell_type": "markdown",
   "metadata": {},
   "source": [
    "# Water Mass Transformation diagnostics using ACCESS-OM2 neutral diagnostics"
   ]
  },
  {
   "cell_type": "markdown",
   "metadata": {},
   "source": [
    "This is a example code for working with the Water Mass Transformation output from the neutral `_on_nrho` diagnostics for a tracer"
   ]
  },
  {
   "cell_type": "code",
   "execution_count": 1,
   "metadata": {},
   "outputs": [],
   "source": [
    "import matplotlib.pyplot as plt\n",
    "import xarray as xr\n",
    "import numpy as np\n",
    "import pandas as pd\n",
    "import os\n",
    "\n",
    "import IPython.display\n",
    "\n",
    "import cosima_cookbook as cc"
   ]
  },
  {
   "cell_type": "markdown",
   "metadata": {},
   "source": [
    "At the moment the diagnostics have to be output from a particular run or runs of ACCESS-OM2. Specify the output directory on Gadi"
   ]
  },
  {
   "cell_type": "code",
   "execution_count": 2,
   "metadata": {},
   "outputs": [],
   "source": [
    "output_dir = r'/scratch/e14/cb2411/access-om2/archive/1deg_jra55_ryf/'"
   ]
  },
  {
   "cell_type": "code",
   "execution_count": 3,
   "metadata": {},
   "outputs": [],
   "source": [
    "outputs = sorted([_ for _ in os.listdir(output_dir) if _.startswith('output')])\n",
    "dir_list = sorted([os.path.join(output_dir, _) for _ in outputs])"
   ]
  },
  {
   "cell_type": "markdown",
   "metadata": {},
   "source": [
    "To make the database, specify a location you have write access to (assign `db_path`)"
   ]
  },
  {
   "cell_type": "code",
   "execution_count": 4,
   "metadata": {},
   "outputs": [],
   "source": [
    "db_path = r'/g/data/e14/cb2411/data'\n",
    "session = cc.database.create_session(os.path.join(db_path, 'wmt_diags.db'))"
   ]
  },
  {
   "cell_type": "code",
   "execution_count": 5,
   "metadata": {},
   "outputs": [
    {
     "name": "stderr",
     "output_type": "stream",
     "text": [
      "0it [00:00, ?it/s]\n",
      "0it [00:00, ?it/s]"
     ]
    },
    {
     "name": "stdout",
     "output_type": "stream",
     "text": [
      "Indexing experiment: output050\n",
      "Indexing experiment: output051\n"
     ]
    },
    {
     "name": "stderr",
     "output_type": "stream",
     "text": [
      "\n",
      "0it [00:00, ?it/s]\n",
      "0it [00:00, ?it/s]\n",
      "0it [00:00, ?it/s]\n"
     ]
    },
    {
     "name": "stdout",
     "output_type": "stream",
     "text": [
      "Indexing experiment: output052\n",
      "Indexing experiment: output053\n",
      "Indexing experiment: output054\n",
      "Indexing experiment: output055\n"
     ]
    },
    {
     "name": "stderr",
     "output_type": "stream",
     "text": [
      "0it [00:00, ?it/s]\n"
     ]
    },
    {
     "data": {
      "text/plain": [
       "0"
      ]
     },
     "execution_count": 5,
     "metadata": {},
     "output_type": "execute_result"
    }
   ],
   "source": [
    "cc.database.build_index(dir_list,session,update=True)"
   ]
  },
  {
   "cell_type": "code",
   "execution_count": 6,
   "metadata": {},
   "outputs": [],
   "source": [
    "# make list of experiments - at the moment this is the number of runs in a single experiment\n",
    "# chat to COSIMA about making the cc.database.create_session(...) work with a dictionary\n",
    "# to be able to specficy the file structure of the experiments \n",
    "# (running multiple \"experiments\" - say a control and perturbation will have the same names?)\n",
    "exp = list(cc.querying.get_experiments(session)['experiment'])"
   ]
  },
  {
   "cell_type": "markdown",
   "metadata": {},
   "source": [
    "Specificy the neutral coordinate (either temperature or salt). This is use to construct the variable names used in the `.getvar` method"
   ]
  },
  {
   "cell_type": "code",
   "execution_count": 7,
   "metadata": {},
   "outputs": [],
   "source": [
    "neutral_coordinate = 'salt'"
   ]
  },
  {
   "cell_type": "code",
   "execution_count": 37,
   "metadata": {},
   "outputs": [],
   "source": [
    "diags = {'diffusion': ['salt_vdiffuse_diff_cbt_on_nrho', 'salt_nonlocal_KPP_on_nrho', \n",
    "                      'neutral_diffusion_on_nrho_salt','salt_vdiffuse_k33_on_nrho', \n",
    "                      'mixdownslope_salt_on_nrho','salt_sigma_diff_on_nrho'], \n",
    "        'skew-diffusion': ['neutral_gm_on_nrho_salt', 'salt_submeso_on_nrho'],\n",
    "        'tracer_sbc': ['salt_vdiffuse_sbc_on_nrho', 'salt_eta_smooth_on_nrho', 'salt_rivermix_on_nrho'],\n",
    "        'volume_sbc': ['mass_pmepr_on_nrho'],\n",
    "        }"
   ]
  },
  {
   "cell_type": "markdown",
   "metadata": {},
   "source": [
    "We are interested in the processes which transport a general tracer $\\mathbb{C}$ across surface of constant tracer values, $C^{*}$. In general, $C^{*}$ do not need to be iso-surfaces of the the concentration of $\\mathbb{C}$.\n",
    "\n",
    "We wish to calculate the terms of the  time-averaged internal budget for a tracer $\\mathbb{C}(C^{*}, t)$,  \n",
    "$$\\partial \\mathbb{C}/\\partial t = -F - D,$$\n",
    "where $F$ and $D$ are the forcing and diffusion"
   ]
  },
  {
   "cell_type": "code",
   "execution_count": 46,
   "metadata": {},
   "outputs": [],
   "source": [
    "# warnings disabled for development\n",
    "import warnings\n",
    "warnings.simplefilter(\"ignore\")\n",
    "\n",
    "P = cc.querying.getvar('output051', 'mass_pmepr_on_nrho', session)\n",
    "area = cc.querying.getvar('output051', 'area_t', session).rename({'xt_ocean':'grid_xt_ocean', \n",
    "                                                                  'yt_ocean':'grid_yt_ocean'})\n",
    "isohalines = cc.querying.getvar('output051', 'neutral', session)\n",
    "sfc_tracer = 0\n",
    "for _ in diags['tracer_sbc']:\n",
    "    sfc_tracer = sfc_tracer + cc.querying.getvar('output051', _, session)*area\n",
    "Forcing_av = P.sum(dim=['grid_yt_ocean', 'grid_xt_ocean']).cumsum(dim='neutral').mean(dim='time')*isohalines/1000 -\\\n",
    "            sfc_tracer.sum(dim=['grid_yt_ocean', 'grid_xt_ocean']).cumsum(dim='neutral').mean(dim='time')\n",
    "diff_on_nrho = 0\n",
    "for _ in diags['diffusion']:\n",
    "    diff_on_nrho = diff_on_nrho + cc.querying.getvar('output051', _, session)*area\n",
    "Subgrid_diff_av = diff_on_nrho.sum(dim=['grid_yt_ocean', 'grid_xt_ocean']).cumsum(dim='neutral').mean(dim='time')\n",
    "skew_on_nrho = 0\n",
    "for _ in diags['skew-diffusion']:\n",
    "    skew_on_nrho = skew_on_nrho + cc.querying.getvar('output051', _, session)*area\n",
    "Subgrid_skew_av = skew_on_nrho.sum(dim=['grid_yt_ocean', 'grid_xt_ocean']).cumsum(dim='neutral').mean(dim='time')\n",
    "\n"
   ]
  },
  {
   "cell_type": "code",
   "execution_count": null,
   "metadata": {},
   "outputs": [],
   "source": [
    "# plotting\n",
    "(-Subgrid_diff_av).plot()\n",
    "Forcing_av.plot()\n",
    "(-Subgrid_skew_av).plot()\n",
    "plt.grid()\n",
    "plt.ylabel(\"kg sec$^{-1}$\")\n",
    "plt.legend(['Parameterised diffusion', 'Forcing', 'Skew-diffusion'])\n",
    "plt.show()"
   ]
  }
 ],
 "metadata": {
  "kernelspec": {
   "display_name": "Python [conda env:analysis3-20.01] *",
   "language": "python",
   "name": "conda-env-analysis3-20.01-py"
  },
  "language_info": {
   "codemirror_mode": {
    "name": "ipython",
    "version": 3
   },
   "file_extension": ".py",
   "mimetype": "text/x-python",
   "name": "python",
   "nbconvert_exporter": "python",
   "pygments_lexer": "ipython3",
   "version": "3.7.6"
  }
 },
 "nbformat": 4,
 "nbformat_minor": 4
}
