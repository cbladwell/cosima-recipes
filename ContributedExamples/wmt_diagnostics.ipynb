{
 "cells": [
  {
   "cell_type": "markdown",
   "metadata": {},
   "source": [
    "# Water Mass Transformation diagnostics using ACCESS-OM2 neutral diagnostics"
   ]
  },
  {
   "cell_type": "markdown",
   "metadata": {},
   "source": [
    "This is a example code for working with the Water Mass Transformation output from the neutral `_on_nrho` diagnostics for a tracer"
   ]
  },
  {
   "cell_type": "code",
   "execution_count": 7,
   "metadata": {},
   "outputs": [],
   "source": [
    "import matplotlib.pyplot as plt\n",
    "import xarray as xr\n",
    "import numpy as np\n",
    "import pandas as pd\n",
    "import os\n",
    "\n",
    "import IPython.display\n",
    "\n",
    "import cosima_cookbook as cc"
   ]
  },
  {
   "cell_type": "markdown",
   "metadata": {},
   "source": [
    "At the moment the diagnostics have to be output from a particular run or runs of ACCESS-OM2. Specify the output directory on Gadi"
   ]
  },
  {
   "cell_type": "code",
   "execution_count": 59,
   "metadata": {},
   "outputs": [],
   "source": [
    "output_dir = r'/scratch/e14/cb2411/access-om2/archive/1deg_jra55_ryf/'"
   ]
  },
  {
   "cell_type": "code",
   "execution_count": 60,
   "metadata": {},
   "outputs": [
    {
     "name": "stdout",
     "output_type": "stream",
     "text": [
      "['output050', 'output051', 'output052', 'output053', 'output054', 'output055']\n",
      "['/scratch/e14/cb2411/access-om2/archive/1deg_jra55_ryf/output050', '/scratch/e14/cb2411/access-om2/archive/1deg_jra55_ryf/output051', '/scratch/e14/cb2411/access-om2/archive/1deg_jra55_ryf/output052', '/scratch/e14/cb2411/access-om2/archive/1deg_jra55_ryf/output053', '/scratch/e14/cb2411/access-om2/archive/1deg_jra55_ryf/output054', '/scratch/e14/cb2411/access-om2/archive/1deg_jra55_ryf/output055']\n"
     ]
    }
   ],
   "source": [
    "outputs = sorted([_ for _ in os.listdir(output_dir) if _.startswith('output')])\n",
    "dir_list = sorted([os.path.join(output_dir, _) for _ in outputs])\n",
    "print(outputs)\n",
    "print(dir_list)"
   ]
  },
  {
   "cell_type": "markdown",
   "metadata": {},
   "source": [
    "To make the database, specify a location you have write access to (assign `db_path`)"
   ]
  },
  {
   "cell_type": "code",
   "execution_count": 61,
   "metadata": {},
   "outputs": [],
   "source": [
    "db_path = r'/g/data/e14/cb2411/data'\n",
    "session = cc.database.create_session(os.path.join(db_path, 'wmt_diags.db'))"
   ]
  },
  {
   "cell_type": "code",
   "execution_count": 62,
   "metadata": {},
   "outputs": [
    {
     "name": "stderr",
     "output_type": "stream",
     "text": [
      "  0%|          | 0/125 [00:00<?, ?it/s]"
     ]
    },
    {
     "name": "stdout",
     "output_type": "stream",
     "text": [
      "Indexing experiment: output050\n"
     ]
    },
    {
     "name": "stderr",
     "output_type": "stream",
     "text": [
      "100%|██████████| 125/125 [00:09<00:00, 13.45it/s]\n",
      " 10%|█         | 2/20 [00:00<00:01, 13.96it/s]"
     ]
    },
    {
     "name": "stdout",
     "output_type": "stream",
     "text": [
      "Indexing experiment: output051\n"
     ]
    },
    {
     "name": "stderr",
     "output_type": "stream",
     "text": [
      "100%|██████████| 20/20 [00:01<00:00, 17.25it/s]\n",
      " 10%|█         | 2/20 [00:00<00:01, 13.98it/s]"
     ]
    },
    {
     "name": "stdout",
     "output_type": "stream",
     "text": [
      "Indexing experiment: output052\n"
     ]
    },
    {
     "name": "stderr",
     "output_type": "stream",
     "text": [
      "100%|██████████| 20/20 [00:00<00:00, 20.10it/s]\n",
      " 10%|█         | 2/20 [00:00<00:01, 14.05it/s]"
     ]
    },
    {
     "name": "stdout",
     "output_type": "stream",
     "text": [
      "Indexing experiment: output053\n"
     ]
    },
    {
     "name": "stderr",
     "output_type": "stream",
     "text": [
      "100%|██████████| 20/20 [00:01<00:00, 16.87it/s]\n",
      " 10%|█         | 2/20 [00:00<00:01, 14.01it/s]"
     ]
    },
    {
     "name": "stdout",
     "output_type": "stream",
     "text": [
      "Indexing experiment: output054\n"
     ]
    },
    {
     "name": "stderr",
     "output_type": "stream",
     "text": [
      "100%|██████████| 20/20 [00:01<00:00, 19.93it/s]\n",
      "  0%|          | 0/20 [00:00<?, ?it/s]"
     ]
    },
    {
     "name": "stdout",
     "output_type": "stream",
     "text": [
      "Indexing experiment: output055\n"
     ]
    },
    {
     "name": "stderr",
     "output_type": "stream",
     "text": [
      "100%|██████████| 20/20 [00:01<00:00, 17.08it/s]\n"
     ]
    },
    {
     "data": {
      "text/plain": [
       "225"
      ]
     },
     "execution_count": 62,
     "metadata": {},
     "output_type": "execute_result"
    }
   ],
   "source": [
    "cc.database.build_index(dir_list,session,update=True)"
   ]
  },
  {
   "cell_type": "code",
   "execution_count": 94,
   "metadata": {},
   "outputs": [
    {
     "data": {
      "text/plain": [
       "['output050', 'output051', 'output052', 'output053', 'output054', 'output055']"
      ]
     },
     "execution_count": 94,
     "metadata": {},
     "output_type": "execute_result"
    }
   ],
   "source": [
    "# make list of experiments - at the moment this is the number of runs in a single experiment\n",
    "# chat to COSIMA about making the cc.database.create_session(...) work with a dictionary\n",
    "# to be able to specficy the file structure of the experiments \n",
    "# (running multiple \"experiments\" - say a control and perturbation will have the same names?)\n",
    "exp = list(cc.querying.get_experiments(session)['experiment'])\n",
    "exp"
   ]
  },
  {
   "cell_type": "markdown",
   "metadata": {},
   "source": [
    "Specificy the neutral coordinate (either temperature or salt). This is use to construct the variable names used in the `.getvar` method"
   ]
  },
  {
   "cell_type": "code",
   "execution_count": 66,
   "metadata": {},
   "outputs": [],
   "source": [
    "neutral_coordinate = 'salt'"
   ]
  },
  {
   "cell_type": "code",
   "execution_count": 97,
   "metadata": {},
   "outputs": [],
   "source": [
    "diags = {'diffusion': ['salt_vdiffuse_diff_cbt', 'salt_nonlocal_KPP', \n",
    "                      'neutral_diffusion_salt','salt_vdiffuse_k33', \n",
    "                      'mixdownslope_salt','salt_sigma_diff'], \n",
    "        'skew-diffusion': ['neutral_gm_salt', 'salt_submeso'],\n",
    "        'tracer_sbc': ['salt_vdiffuse_sbc', 'salt_eta_smooth', 'salt_rivermix'],\n",
    "        'volume_sbc': ['mass_pmepr'],\n",
    "        }"
   ]
  },
  {
   "cell_type": "code",
   "execution_count": null,
   "metadata": {},
   "outputs": [],
   "source": []
  }
 ],
 "metadata": {
  "kernelspec": {
   "display_name": "Python [conda env:analysis3-20.01] *",
   "language": "python",
   "name": "conda-env-analysis3-20.01-py"
  },
  "language_info": {
   "codemirror_mode": {
    "name": "ipython",
    "version": 3
   },
   "file_extension": ".py",
   "mimetype": "text/x-python",
   "name": "python",
   "nbconvert_exporter": "python",
   "pygments_lexer": "ipython3",
   "version": "3.7.6"
  }
 },
 "nbformat": 4,
 "nbformat_minor": 4
}
